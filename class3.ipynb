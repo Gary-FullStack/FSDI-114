{
 "cells": [
  {
   "cell_type": "code",
   "execution_count": 9,
   "id": "0ff0adda",
   "metadata": {},
   "outputs": [],
   "source": [
    "class Queue:\n",
    "    class Node:        \n",
    "        def __init__(self, data):\n",
    "            self.data = data        \n",
    "            self.next = None\n",
    "\n",
    "\n",
    "        def __init__(self):\n",
    "            self.back = None\n",
    "\n",
    "\n",
    "        def enqueue(self, element):\n",
    "            new_node = self.Node(element)\n",
    "            if not self.back:\n",
    "                self.back = new_node\n",
    "            else:\n",
    "                new_node.next = self.back\n",
    "                self.back = new_node\n",
    "\n",
    "\n",
    "        def dequeue(self):\n",
    "            if not self.back:\n",
    "                raise IndexError(\"Queue empty\")\n",
    "            else:\n",
    "                current = self.back\n",
    "                prev = None\n",
    "                while current.next:\n",
    "                    prev = current\n",
    "                    current = current.next\n",
    "                if not prev:\n",
    "                    datum = current.data\n",
    "                    self.base = None\n",
    "                    return datum\n",
    "                else:\n",
    "                    datum = current.data\n",
    "                    prev.next = None\n",
    "                    return datum \n",
    "\n",
    "        def size(self):\n",
    "            count = 0\n",
    "            current = self.back\n",
    "            while current:\n",
    "                count += 1\n",
    "                current = current.above\n",
    "            return count\n",
    "\n",
    "\n",
    "        def peek(self):\n",
    "            if not self.back:\n",
    "                raise IndexError(\"empty\")\n",
    "            else:\n",
    "                current = self.back\n",
    "                while current.above:\n",
    "                    current = current.above\n",
    "                return current.data\n"
   ]
  },
  {
   "cell_type": "markdown",
   "id": "b531d506",
   "metadata": {},
   "source": [
    "# RECURSION"
   ]
  },
  {
   "cell_type": "code",
   "execution_count": 5,
   "id": "8b7daf78",
   "metadata": {},
   "outputs": [
    {
     "data": {
      "text/plain": [
       "3628800"
      ]
     },
     "execution_count": 5,
     "metadata": {},
     "output_type": "execute_result"
    }
   ],
   "source": [
    "def fact(n):\n",
    "    if n == 0:  \n",
    "        return 1\n",
    "    return n*fact(n-1)\n",
    "\n",
    "fact(10)"
   ]
  },
  {
   "cell_type": "code",
   "execution_count": 10,
   "id": "bc620898",
   "metadata": {},
   "outputs": [
    {
     "data": {
      "text/plain": [
       "354224848179261915075"
      ]
     },
     "execution_count": 10,
     "metadata": {},
     "output_type": "execute_result"
    }
   ],
   "source": [
    "from functools import lru_cache\n",
    "\n",
    "@lru_cache\n",
    "def fibonacci(n):\n",
    "    if n < 2:\n",
    "        return n\n",
    "    return fibonacci(n-1) + fibonacci(n-2)\n",
    "\n",
    "\n",
    "fibonacci(100)"
   ]
  },
  {
   "cell_type": "markdown",
   "id": "df460831",
   "metadata": {},
   "source": [
    "# linked lists"
   ]
  },
  {
   "cell_type": "code",
   "execution_count": null,
   "id": "38ec244a",
   "metadata": {},
   "outputs": [],
   "source": [
    "class SinglyLinkedList:\n",
    "    class Node:\n",
    "        def __init__(self, data):\n",
    "            self.data = data\n",
    "            self.next = None\n",
    "    def __init__(self):\n",
    "        self.head = None\n",
    "        \n",
    "        \n",
    "    def append(self, value):\n",
    "        pass\n",
    "    \n",
    "    def remove(self, value):\n",
    "        pass\n",
    "    \n",
    "    def insert(self, index, value):\n",
    "        pass\n",
    "    \n",
    "    \n",
    "    def __str__(self):\n",
    "         #words here .... "
   ]
  },
  {
   "cell_type": "markdown",
   "id": "3bb2b6ee",
   "metadata": {},
   "source": [
    "\n",
    "I followed very little of the content here.     And rather than expend my bandwith here I decided to carry on \n",
    "elsewhere where I do have understanding and am making headway. \n"
   ]
  },
  {
   "cell_type": "code",
   "execution_count": null,
   "id": "630b6f50",
   "metadata": {},
   "outputs": [],
   "source": []
  }
 ],
 "metadata": {
  "kernelspec": {
   "display_name": "Python 3 (ipykernel)",
   "language": "python",
   "name": "python3"
  },
  "language_info": {
   "codemirror_mode": {
    "name": "ipython",
    "version": 3
   },
   "file_extension": ".py",
   "mimetype": "text/x-python",
   "name": "python",
   "nbconvert_exporter": "python",
   "pygments_lexer": "ipython3",
   "version": "3.10.6"
  }
 },
 "nbformat": 4,
 "nbformat_minor": 5
}
