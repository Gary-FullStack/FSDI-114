{
 "cells": [
  {
   "cell_type": "code",
   "execution_count": 9,
   "id": "0ff0adda",
   "metadata": {},
   "outputs": [],
   "source": [
    "class Queue:\n",
    "    class Node:        \n",
    "        def __init__(self, data):\n",
    "            self.data = data        \n",
    "            self.next = None\n",
    "\n",
    "\n",
    "        def __init__(self):\n",
    "            self.back = None\n",
    "\n",
    "\n",
    "        def enqueue(self, element):\n",
    "            new_node = self.Node(element)\n",
    "            if not self.back:\n",
    "                self.back = new_node\n",
    "            else:\n",
    "                new_node.next = self.back\n",
    "                self.back = new_node\n",
    "\n",
    "\n",
    "        def dequeue(self):\n",
    "            if not self.back:\n",
    "                raise IndexError(\"Queue empty\")\n",
    "            else:\n",
    "                current = self.back\n",
    "                prev = None\n",
    "                while current.next:\n",
    "                    prev = current\n",
    "                    current = current.next\n",
    "                if not prev:\n",
    "                    datum = current.data\n",
    "                    self.base = None\n",
    "                    return datum\n",
    "                else:\n",
    "                    datum = current.data\n",
    "                    prev.next = None\n",
    "                    return datum \n",
    "\n",
    "        def size(self):\n",
    "            count = 0\n",
    "            current = self.back\n",
    "            while current:\n",
    "                count += 1\n",
    "                current = current.above\n",
    "            return count\n",
    "\n",
    "\n",
    "        def peek(self):\n",
    "            if not self.back:\n",
    "                raise IndexError(\"empty\")\n",
    "            else:\n",
    "                current = self.back\n",
    "                while current.above:\n",
    "                    current = current.above\n",
    "                return current.data\n"
   ]
  },
  {
   "cell_type": "markdown",
   "id": "b531d506",
   "metadata": {},
   "source": [
    "# RECURSION"
   ]
  },
  {
   "cell_type": "code",
   "execution_count": 5,
   "id": "8b7daf78",
   "metadata": {},
   "outputs": [
    {
     "data": {
      "text/plain": [
       "3628800"
      ]
     },
     "execution_count": 5,
     "metadata": {},
     "output_type": "execute_result"
    }
   ],
   "source": [
    "def fact(n):\n",
    "    if n == 0:  \n",
    "        return 1\n",
    "    return n*fact(n-1)\n",
    "\n",
    "fact(10)"
   ]
  },
  {
   "cell_type": "code",
   "execution_count": 10,
   "id": "bc620898",
   "metadata": {},
   "outputs": [
    {
     "data": {
      "text/plain": [
       "354224848179261915075"
      ]
     },
     "execution_count": 10,
     "metadata": {},
     "output_type": "execute_result"
    }
   ],
   "source": [
    "from functools import lru_cache\n",
    "\n",
    "@lru_cache\n",
    "def fibonacci(n):\n",
    "    if n < 2:\n",
    "        return n\n",
    "    return fibonacci(n-1) + fibonacci(n-2)\n",
    "\n",
    "\n",
    "fibonacci(100)"
   ]
  },
  {
   "cell_type": "markdown",
   "id": "df460831",
   "metadata": {},
   "source": [
    "# linked lists"
   ]
  },
  {
   "cell_type": "code",
   "execution_count": null,
   "id": "38ec244a",
   "metadata": {},
   "outputs": [],
   "source": [
    "class Node:\n",
    "    def __init__(self, data=None, next=None):\n",
    "        self.data = data\n",
    "        self.next = next\n",
    "\n",
    "class LinkedList:\n",
    "    def __init__(self):\n",
    "        self.head = None\n",
    "        self.tail = None\n",
    "        \n",
    "    def append(self, data):\n",
    "        new_node = Node(data)\n",
    "        if self.tail:\n",
    "            self.tail.next = new_node\n",
    "        else:\n",
    "            self.head = new_node\n",
    "        self.tail = new_node\n",
    "\n",
    "    def remove(self, data):\n",
    "        current_node = self.head\n",
    "        previous_node = None\n",
    "        while current_node:\n",
    "            if current_node.data == data:\n",
    "                if previous_node:\n",
    "                    previous_node.next = current_node.next\n",
    "                else:\n",
    "                    self.head = current_node.next\n",
    "                if not current_node.next:\n",
    "                    self.tail = previous_node\n",
    "                return\n",
    "            previous_node = current_node\n",
    "            current_node = current_node.next\n",
    "\n",
    "    def index(self, data):\n",
    "        current_node = self.head\n",
    "        index = 0\n",
    "        while current_node:\n",
    "            if current_node.data == data:\n",
    "                return index\n",
    "            current_node = current_node.next\n",
    "            index += 1\n",
    "        raise ValueError(\"not in list\")\n",
    "\n",
    "    def insert(self, index, data):\n",
    "        new_node = Node(data)\n",
    "        current_node = self.head\n",
    "        previous_node = None\n",
    "        current_index = 0\n",
    "        while current_node and current_index < index:\n",
    "            previous_node = current_node\n",
    "            current_node = current_node.next\n",
    "            current_index += 1\n",
    "        if previous_node:\n",
    "            previous_node.next = new_node\n",
    "        else:\n",
    "            self.head = new_node\n",
    "        new_node.next = current_node\n",
    "        if not current_node:\n",
    "            self.tail = new_node   \n",
    "        \n",
    "        \n",
    "        "
   ]
  }
 ],
 "metadata": {
  "kernelspec": {
   "display_name": "Python 3 (ipykernel)",
   "language": "python",
   "name": "python3"
  },
  "language_info": {
   "codemirror_mode": {
    "name": "ipython",
    "version": 3
   },
   "file_extension": ".py",
   "mimetype": "text/x-python",
   "name": "python",
   "nbconvert_exporter": "python",
   "pygments_lexer": "ipython3",
   "version": "3.10.6"
  }
 },
 "nbformat": 4,
 "nbformat_minor": 5
}
